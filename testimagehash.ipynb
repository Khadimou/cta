{
 "cells": [
  {
   "cell_type": "code",
   "execution_count": 1,
   "metadata": {},
   "outputs": [],
   "source": [
    "import imagehash\n",
    "from PIL import Image"
   ]
  },
  {
   "cell_type": "code",
   "execution_count": 2,
   "metadata": {},
   "outputs": [
    {
     "name": "stdout",
     "output_type": "stream",
     "text": [
      "aa5555aaa955aaaa\n"
     ]
    }
   ],
   "source": [
    "hash = imagehash.phash(Image.open('imagestocompare/original.png'))\n",
    "print(hash)"
   ]
  },
  {
   "cell_type": "code",
   "execution_count": 3,
   "metadata": {},
   "outputs": [
    {
     "name": "stdout",
     "output_type": "stream",
     "text": [
      "aa5555aaa955aaaa\n",
      "True\n",
      "0\n"
     ]
    }
   ],
   "source": [
    "otherhash = imagehash.phash(Image.open('imagestocompare/hashimg3.png'))\n",
    "print(otherhash)\n",
    "\n",
    "print(hash == otherhash)\n",
    "print(hash-otherhash)"
   ]
  }
 ],
 "metadata": {
  "interpreter": {
   "hash": "f9714c79cc20781910ed960df3f6fbe0fd0a0039e985b4bcf55af094e2ab2306"
  },
  "kernelspec": {
   "display_name": "Python 3.9.11 ('CTA')",
   "language": "python",
   "name": "python3"
  },
  "language_info": {
   "codemirror_mode": {
    "name": "ipython",
    "version": 3
   },
   "file_extension": ".py",
   "mimetype": "text/x-python",
   "name": "python",
   "nbconvert_exporter": "python",
   "pygments_lexer": "ipython3",
   "version": "3.9.11"
  },
  "orig_nbformat": 4
 },
 "nbformat": 4,
 "nbformat_minor": 2
}
