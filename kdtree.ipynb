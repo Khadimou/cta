{
 "cells": [
  {
   "cell_type": "code",
   "execution_count": 26,
   "metadata": {},
   "outputs": [],
   "source": [
    "from sklearn.neighbors import KDTree\n",
    "import tables\n",
    "from tables import *\n",
    "import numpy as np\n",
    "import glob\n",
    "import tqdm \n",
    "import os\n",
    "import matplotlib.pyplot as plt"
   ]
  },
  {
   "cell_type": "code",
   "execution_count": 3,
   "metadata": {},
   "outputs": [],
   "source": [
    "with open_file(\"TrainDataProjection.h5\",\"r\", driver=\"H5FD_CORE\") as h5f:\n",
    "    axeXTrain = h5f.root.Train.projection.read(field=\"firstCol\")\n",
    "    axeYTrain = h5f.root.Train.projection.read(field=\"firstCol\")\n",
    "    axeZTrain = h5f.root.Train.projection.read(field=\"firstCol\")"
   ]
  },
  {
   "cell_type": "code",
   "execution_count": 23,
   "metadata": {},
   "outputs": [
    {
     "data": {
      "text/plain": [
       "(1058742, 3)"
      ]
     },
     "execution_count": 23,
     "metadata": {},
     "output_type": "execute_result"
    }
   ],
   "source": [
    "TrainData = np.array([axeXTrain,axeYTrain,axeZTrain]).T\n",
    "TrainData.shape"
   ]
  },
  {
   "cell_type": "code",
   "execution_count": 24,
   "metadata": {},
   "outputs": [],
   "source": [
    "tree = KDTree(TrainData, leaf_size=530000)"
   ]
  },
  {
   "cell_type": "code",
   "execution_count": 25,
   "metadata": {},
   "outputs": [
    {
     "name": "stdout",
     "output_type": "stream",
     "text": [
      "[[0.00000000e+00 1.18930491e-04 1.98217484e-04]\n",
      " [0.00000000e+00 0.00000000e+00 5.28579958e-05]\n",
      " [0.00000000e+00 1.32144990e-05 6.60724948e-05]\n",
      " ...\n",
      " [0.00000000e+00 2.64289979e-05 6.60724948e-05]\n",
      " [0.00000000e+00 1.32144990e-05 2.64289979e-05]\n",
      " [0.00000000e+00 1.32144990e-05 2.64289979e-05]]\n"
     ]
    }
   ],
   "source": [
    "dist, ind = tree.query(TrainData, k=3) # 3 plus proches voisins\n",
    "print(dist)"
   ]
  },
  {
   "cell_type": "code",
   "execution_count": 44,
   "metadata": {},
   "outputs": [],
   "source": [
    "# write train data indexes (events) into a binary file\n",
    "ind.tofile(open(\"ind.txt\", \"bw\"))"
   ]
  },
  {
   "cell_type": "code",
   "execution_count": 50,
   "metadata": {},
   "outputs": [],
   "source": [
    "# retrieve train data indexes (events)\n",
    "train_index = np.fromfile(open(\"ind.txt\", \"rb\"),dtype=np.int64)"
   ]
  },
  {
   "cell_type": "code",
   "execution_count": 47,
   "metadata": {},
   "outputs": [],
   "source": [
    "# write train data distances into a binary file\n",
    "dist.tofile(open(\"dist.txt\", \"bw\"))"
   ]
  },
  {
   "cell_type": "code",
   "execution_count": 51,
   "metadata": {},
   "outputs": [],
   "source": [
    "# retrieve train data distances\n",
    "train_dist = np.fromfile(open(\"dist.txt\", \"rb\"),dtype=np.float64)"
   ]
  },
  {
   "cell_type": "code",
   "execution_count": 121,
   "metadata": {},
   "outputs": [],
   "source": [
    "# retrieve some parameter values from train data\n",
    "def get_param_values(fnames):\n",
    "    #read 1 column\n",
    "    with open_file(fnames, \"r\", driver=\"H5FD_CORE\") as f:\n",
    "        idevent = f.root.Shower.gerbe.read(field=\"idevent\")\n",
    "        energy = f.root.Shower.gerbe.read(field=\"energy\")\n",
    "        #print(\"idevent \",idevent)\n",
    "\n",
    "    return idevent, energy"
   ]
  },
  {
   "cell_type": "code",
   "execution_count": 130,
   "metadata": {},
   "outputs": [],
   "source": [
    "fnames = glob.glob('hash_training/*.h5', recursive=True)"
   ]
  },
  {
   "cell_type": "code",
   "execution_count": 134,
   "metadata": {},
   "outputs": [],
   "source": [
    "# get events and energies values from files\n",
    "events = []\n",
    "my_energies = []\n",
    "for input in fnames:\n",
    "    idevent,energy= get_param_values(input)\n",
    "    events.append(idevent)\n",
    "    my_energies.append(energy)"
   ]
  },
  {
   "cell_type": "code",
   "execution_count": 135,
   "metadata": {},
   "outputs": [
    {
     "data": {
      "text/plain": [
       "((1059346,), (1059346,))"
      ]
     },
     "execution_count": 135,
     "metadata": {},
     "output_type": "execute_result"
    }
   ],
   "source": [
    "my_events = np.zeros(len(events))\n",
    "energies = np.zeros(len(my_energies))\n",
    "for f in range(len(fnames)):\n",
    "    my_events = np.concatenate((my_events, events[f]))\n",
    "    energies = np.concatenate((energies, my_energies[f]))\n",
    "my_events.shape, energies.shape"
   ]
  },
  {
   "cell_type": "code",
   "execution_count": 151,
   "metadata": {},
   "outputs": [
    {
     "name": "stdout",
     "output_type": "stream",
     "text": [
      "event  0 energy  0.0 distance  0.0\n",
      "event  300608 energy  0.08189523965120316 distance  2.6428997918226276e-05\n",
      "event  120709 energy  0.5792446136474609 distance  0.0\n"
     ]
    }
   ],
   "source": [
    "for s in range(int(train_index.shape[0]/3)):\n",
    "    if train_index[s] == int(my_events[s]):\n",
    "        print(\"event \",train_index[s],\"energy \",energies[s], \"distance \", train_dist[s])\n",
    "    "
   ]
  },
  {
   "cell_type": "code",
   "execution_count": 152,
   "metadata": {},
   "outputs": [
    {
     "data": {
      "text/plain": [
       "<matplotlib.collections.PathCollection at 0x7f1e58800940>"
      ]
     },
     "execution_count": 152,
     "metadata": {},
     "output_type": "execute_result"
    },
    {
     "data": {
      "image/png": "[encoded data removed]",
      "text/plain": [
       "<Figure size 432x288 with 1 Axes>"
      ]
     },
     "metadata": {
      "needs_background": "light"
     },
     "output_type": "display_data"
    }
   ],
   "source": [
    "plt.xlabel(\"distance de gerbes\")\n",
    "plt.ylabel(\"energies des gerbes\")\n",
    "plt.grid()\n",
    "plt.scatter(train_dist[0:energies.shape[0]],energies,c=\"r\")"
   ]
  }
 ],
 "metadata": {
  "kernelspec": {
   "display_name": "Python 3.9.11 ('CTA')",
   "language": "python",
   "name": "python3"
  },
  "language_info": {
   "codemirror_mode": {
    "name": "ipython",
    "version": 3
   },
   "file_extension": ".py",
   "mimetype": "text/x-python",
   "name": "python",
   "nbconvert_exporter": "python",
   "pygments_lexer": "ipython3",
   "version": "3.9.11"
  },
  "orig_nbformat": 4,
  "vscode": {
   "interpreter": {
    "hash": "f9714c79cc20781910ed960df3f6fbe0fd0a0039e985b4bcf55af094e2ab2306"
   }
  }
 },
 "nbformat": 4,
 "nbformat_minor": 2
}
