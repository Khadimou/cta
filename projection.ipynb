{
 "cells": [
  {
   "cell_type": "code",
   "execution_count": 62,
   "metadata": {},
   "outputs": [],
   "source": [
    "import tables\n",
    "from tables import *\n",
    "import numpy as np\n",
    "import glob\n",
    "import tqdm \n",
    "import os\n"
   ]
  },
  {
   "cell_type": "code",
   "execution_count": 8,
   "metadata": {},
   "outputs": [],
   "source": [
    "#retrieve params from our files\n",
    "def read_files(inputfile):\n",
    "\n",
    "    # read 1 column using field= parameter:\n",
    "    with open_file(inputfile, \"r\", driver=\"H5FD_CORE\") as h5f:\n",
    "        img = h5f.root.dl1.event.telescope.images.LST_LSTCam.read(field=\"image\")\n",
    "        \n",
    "\n",
    "    htable = np.fromfile(\"injunction_table_lst.pny\", offset=8, dtype=np.uint16)\n",
    "    matrix = np.zeros(55*55)\n",
    "\n",
    "    mat = np.zeros((img.shape[0],55,55),dtype=np.float32)\n",
    "\n",
    "    for i in range(img.shape[0]):\n",
    "        matrix[htable] = img[i]\n",
    "        res = matrix.reshape(55,55)\n",
    "        mat[i] = res\n",
    "\n",
    "    return mat"
   ]
  },
  {
   "cell_type": "code",
   "execution_count": 9,
   "metadata": {},
   "outputs": [],
   "source": [
    "#return the singular values\n",
    "def svd(res):\n",
    "    # Applying SVD\n",
    "    U, S, VT = np.linalg.svd(res,full_matrices=False,# It's not necessary to compute the full matrix of U or V\n",
    "        compute_uv=True) # Deterministic SVD\n",
    "\n",
    "    S = np.diag(S) #singular value matrix\n",
    "    \n",
    "    return S.diagonal()"
   ]
  },
  {
   "cell_type": "code",
   "execution_count": 10,
   "metadata": {},
   "outputs": [],
   "source": [
    "def get_sv(train_fnames):\n",
    "    nbevent = 0\n",
    "    file_offset = []\n",
    "\n",
    "    for file in tqdm.tqdm(train_fnames):\n",
    "        hfile = tables.open_file(file, \"r\")\n",
    "        nrows = hfile.root.dl1.event.telescope.parameters.LST_LSTCam.nrows\n",
    "        file_offset.append((file,int(nbevent), int(nbevent+nrows)))\n",
    "        nbevent = nbevent + nrows\n",
    "        hfile.close()\n",
    "\n",
    "    res = np.zeros((nbevent,10))\n",
    "    \n",
    "    for input in tqdm.tqdm(file_offset):\n",
    "        mat = read_files(input[0])\n",
    "        for i,img in enumerate(mat):\n",
    "            sv = svd(img)\n",
    "            res[input[1]+i] = sv[0:10]\n",
    "    \n",
    "\n",
    "    return res"
   ]
  },
  {
   "cell_type": "code",
   "execution_count": 11,
   "metadata": {},
   "outputs": [],
   "source": [
    "def computeProjection(inputfile, datasetFName, Ncomponents):\n",
    "    #retrieve principal components from projection file config\n",
    "    with open_file(inputfile, \"r\", driver=\"H5FD_CORE\") as h5f:\n",
    "        pc = h5f.root.Projection.ACP.read(field=\"pc\")\n",
    "    #choose N principal components\n",
    "    pc = pc[0:Ncomponents]\n",
    "    #get singular values\n",
    "    val = get_sv(datasetFName)\n",
    "    # create matrix result\n",
    "    res = np.zeros((val.shape[0],Ncomponents))\n",
    "    #compute dot product\n",
    "    for i,values in enumerate(val):\n",
    "        for j,components in enumerate(pc):\n",
    "            res[i][j] = np.dot(components,values)\n",
    "    return res"
   ]
  },
  {
   "cell_type": "code",
   "execution_count": 12,
   "metadata": {},
   "outputs": [
    {
     "name": "stderr",
     "output_type": "stream",
     "text": [
      "100%|██████████| 500/500 [00:03<00:00, 159.42it/s]\n",
      "100%|██████████| 500/500 [27:57<00:00,  3.36s/it]\n"
     ]
    }
   ],
   "source": [
    "train_fnames = glob.glob('Data/training/*.h5', recursive=True)\n",
    "proj = computeProjection('TrainFiles/projection_svd.h5',train_fnames,3)"
   ]
  },
  {
   "cell_type": "code",
   "execution_count": 14,
   "metadata": {},
   "outputs": [
    {
     "data": {
      "text/plain": [
       "(1058742, 3)"
      ]
     },
     "execution_count": 14,
     "metadata": {},
     "output_type": "execute_result"
    }
   ],
   "source": [
    "proj.shape"
   ]
  },
  {
   "cell_type": "code",
   "execution_count": 41,
   "metadata": {},
   "outputs": [],
   "source": [
    "#creating tables for datasets\n",
    "class My_projection(IsDescription):\n",
    "    firstCol = Float32Col()\n",
    "    secondCol = Float32Col()\n",
    "    thirdCol = Float32Col()"
   ]
  },
  {
   "cell_type": "code",
   "execution_count": 46,
   "metadata": {},
   "outputs": [],
   "source": [
    "h5file = open_file(\"TrainDataProjection.h5\",mode =\"w\", title=\"projection svd principal components\")\n",
    "#create a group\n",
    "group = h5file.create_group(\"/\",'Train','Train Info')\n",
    "#create a table\n",
    "table = h5file.create_table(group,\"projection\",My_projection,\"dot product: projection\")\n",
    "#now let's fill the table with its values\n",
    "projected = table.row #write data rows into the table \n",
    "for projection in proj:\n",
    "    projected['AxeX'] = projection[0]\n",
    "    projected['AxeY'] = projection[1]\n",
    "    projected['AxeZ'] = projection[2]\n",
    "    #insert a new gerbe record\n",
    "\n",
    "    projected.append()\n",
    "\n",
    "table.flush()\n",
    "\n",
    "h5file.close()"
   ]
  },
  {
   "cell_type": "code",
   "execution_count": 47,
   "metadata": {},
   "outputs": [
    {
     "name": "stderr",
     "output_type": "stream",
     "text": [
      "100%|██████████| 500/500 [00:15<00:00, 31.51it/s]\n",
      "100%|██████████| 500/500 [27:00<00:00,  3.24s/it]\n"
     ]
    }
   ],
   "source": [
    "test_fnames = glob.glob('Data/testing/*.h5', recursive=True)\n",
    "proj_test = computeProjection('TestFiles/projection_svd.h5',test_fnames,3)"
   ]
  },
  {
   "cell_type": "code",
   "execution_count": 48,
   "metadata": {},
   "outputs": [],
   "source": [
    "fileTest = open_file(\"TestDataProjection.h5\",mode =\"w\", title=\"projection svd principal components\")\n",
    "#create a group\n",
    "groupTest = fileTest.create_group(\"/\",'Test','Test Info')\n",
    "#create a table\n",
    "tableTest = fileTest.create_table(groupTest,\"projection\",My_projection,\"dot product: projection\")\n",
    "#now let's fill the table with its values\n",
    "projectedTest = tableTest.row #write data rows into the table \n",
    "for projection in proj:\n",
    "    projectedTest['AxeX'] = projection[0]\n",
    "    projectedTest['AxeY'] = projection[1]\n",
    "    projectedTest['AxeZ'] = projection[2]\n",
    "    #insert a new projection record\n",
    "\n",
    "    projectedTest.append()\n",
    "\n",
    "tableTest.flush()\n",
    "\n",
    "fileTest.close()"
   ]
  },
  {
   "cell_type": "code",
   "execution_count": 49,
   "metadata": {},
   "outputs": [
    {
     "data": {
      "text/plain": [
       "(1057648, 3)"
      ]
     },
     "execution_count": 49,
     "metadata": {},
     "output_type": "execute_result"
    }
   ],
   "source": [
    "proj_test.shape"
   ]
  }
 ],
 "metadata": {
  "kernelspec": {
   "display_name": "Python 3.9.11 ('CTA')",
   "language": "python",
   "name": "python3"
  },
  "language_info": {
   "codemirror_mode": {
    "name": "ipython",
    "version": 3
   },
   "file_extension": ".py",
   "mimetype": "text/x-python",
   "name": "python",
   "nbconvert_exporter": "python",
   "pygments_lexer": "ipython3",
   "version": "3.9.11"
  },
  "orig_nbformat": 4,
  "vscode": {
   "interpreter": {
    "hash": "f9714c79cc20781910ed960df3f6fbe0fd0a0039e985b4bcf55af094e2ab2306"
   }
  }
 },
 "nbformat": 4,
 "nbformat_minor": 2
}
