{
 "cells": [
  {
   "cell_type": "code",
   "execution_count": 2,
   "metadata": {},
   "outputs": [],
   "source": [
    "import imagehash\n",
    "from PIL import Image"
   ]
  },
  {
   "cell_type": "code",
   "execution_count": 24,
   "metadata": {},
   "outputs": [
    {
     "name": "stdout",
     "output_type": "stream",
     "text": [
      "[[0.6408839  0.81618565 0.14744984 ... 0.9429941  0.5110945  0.7155368 ]\n",
      " [0.197784   0.09441432 0.1095331  ... 0.20932129 0.01880535 0.07657995]\n",
      " [0.1308591  0.95171976 0.807194   ... 0.50998324 0.01561761 0.70832944]\n",
      " ...\n",
      " [0.5069705  0.6392497  0.20520447 ... 0.48758897 0.4372476  0.596303  ]\n",
      " [0.9873052  0.75777835 0.46222815 ... 0.70356727 0.42464024 0.28079882]\n",
      " [0.43060678 0.9048166  0.28205168 ... 0.0125348  0.52196616 0.0733337 ]]\n",
      "0000000000000000\n"
     ]
    }
   ],
   "source": [
    "import numpy as np\n",
    "im = Image.fromarray(np.random.random((55,55)))\n",
    "mat = np.asarray(im)\n",
    "print(mat)\n",
    "p = imagehash.phash(image=im)\n",
    "print(p)"
   ]
  },
  {
   "cell_type": "code",
   "execution_count": 25,
   "metadata": {},
   "outputs": [],
   "source": [
    "max = mat.max()\n",
    "min = mat.min()\n",
    "scale=255/(max-min)"
   ]
  },
  {
   "cell_type": "code",
   "execution_count": 26,
   "metadata": {},
   "outputs": [
    {
     "data": {
      "text/plain": [
       "array([[163.40074  , 208.11784  ,  37.532383 , ..., 240.46497  ,\n",
       "        130.29321  , 182.44366  ],\n",
       "       [ 50.371952 ,  24.00374  ,  27.860336 , ...,  53.314957 ,\n",
       "          4.716914 ,  19.454433 ],\n",
       "       [ 33.300316 , 242.69075  , 205.82419  , ..., 130.00975  ,\n",
       "          3.9037647, 180.60518  ],\n",
       "       ...,\n",
       "       [129.24124  , 162.98387  ,  52.264812 , ..., 124.29728  ,\n",
       "        111.45587  , 152.02875  ],\n",
       "       [251.76813  , 193.21892  , 117.82807  , ..., 179.39041  ,\n",
       "        108.23991  ,  71.547905 ],\n",
       "       [109.761894 , 230.7264   ,  71.86749  , ...,   3.1173828,\n",
       "        133.06642  ,  18.626358 ]], dtype=float32)"
      ]
     },
     "execution_count": 26,
     "metadata": {},
     "output_type": "execute_result"
    }
   ],
   "source": [
    "mat = (mat - min )*scale\n"
   ]
  },
  {
   "cell_type": "code",
   "execution_count": 28,
   "metadata": {},
   "outputs": [
    {
     "data": {
      "text/plain": [
       "255.0"
      ]
     },
     "execution_count": 28,
     "metadata": {},
     "output_type": "execute_result"
    }
   ],
   "source": [
    "\n",
    "mat.max()"
   ]
  },
  {
   "cell_type": "code",
   "execution_count": 2,
   "metadata": {},
   "outputs": [
    {
     "name": "stdout",
     "output_type": "stream",
     "text": [
      "aa5555aaa955aaaa\n"
     ]
    }
   ],
   "source": [
    "hash = imagehash.phash(Image.open('imagestocompare/original.png'))\n",
    "print(hash)"
   ]
  },
  {
   "cell_type": "code",
   "execution_count": 3,
   "metadata": {},
   "outputs": [
    {
     "name": "stdout",
     "output_type": "stream",
     "text": [
      "aa5555aaa955aaaa\n",
      "True\n",
      "0\n"
     ]
    }
   ],
   "source": [
    "otherhash = imagehash.phash(Image.open('imagestocompare/hashimg3.png'))\n",
    "print(otherhash)\n",
    "\n",
    "print(hash == otherhash)\n",
    "print(hash-otherhash)"
   ]
  }
 ],
 "metadata": {
  "interpreter": {
   "hash": "f9714c79cc20781910ed960df3f6fbe0fd0a0039e985b4bcf55af094e2ab2306"
  },
  "kernelspec": {
   "display_name": "Python 3.9.11 ('CTA')",
   "language": "python",
   "name": "python3"
  },
  "language_info": {
   "codemirror_mode": {
    "name": "ipython",
    "version": 3
   },
   "file_extension": ".py",
   "mimetype": "text/x-python",
   "name": "python",
   "nbconvert_exporter": "python",
   "pygments_lexer": "ipython3",
   "version": "3.9.11"
  },
  "orig_nbformat": 4
 },
 "nbformat": 4,
 "nbformat_minor": 2
}
