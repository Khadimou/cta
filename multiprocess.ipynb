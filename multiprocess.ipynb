{
 "cells": [
  {
   "cell_type": "code",
   "execution_count": 11,
   "metadata": {},
   "outputs": [],
   "source": [
    "import tables\n",
    "import glob\n",
    "import numpy as np\n",
    "from multiprocessing import Pool"
   ]
  },
  {
   "cell_type": "code",
   "execution_count": 12,
   "metadata": {},
   "outputs": [],
   "source": [
    "hfile = tables.open_file(\"Data/training/train2.h5\", \"r\")"
   ]
  },
  {
   "cell_type": "code",
   "execution_count": 13,
   "metadata": {},
   "outputs": [],
   "source": [
    "htable = np.fromfile(\"injunction_table_lst.pny\", offset=8, dtype=np.uint16)\n",
    "def get_img_matrix(img, nb_img):\n",
    "    matrix = np.zeros(55*55)\n",
    "\n",
    "    mat = np.zeros((nb_img,55,55),dtype=np.float32)\n",
    "\n",
    "    for i in range(nb_img):\n",
    "        matrix[htable] = img[i]\n",
    "        res = matrix.reshape(55,55)\n",
    "        mat[i] = res\n",
    "\n",
    "    return mat"
   ]
  },
  {
   "cell_type": "code",
   "execution_count": 14,
   "metadata": {},
   "outputs": [],
   "source": [
    "#return the singular values\n",
    "def svd(res):\n",
    "    # Applying SVD\n",
    "    U, S, VT = np.linalg.svd(res,full_matrices=False,# It's not necessary to compute the full matrix of U or V\n",
    "        compute_uv=True) # Deterministic SVD\n",
    "\n",
    "    S = np.diag(S) #singular value matrix\n",
    "   \n",
    "    return S"
   ]
  },
  {
   "cell_type": "code",
   "execution_count": 19,
   "metadata": {},
   "outputs": [],
   "source": [
    "def call_svd(file_offset):\n",
    "    file, outputsvd = file_offset\n",
    "    hfile =tables.open_file(file,\"r\")\n",
    "    sv= hfile.root.Shower.gerbe.col(\"sv\")\n",
    "    \n",
    "\n",
    "    outputsvd[:] = sv"
   ]
  },
  {
   "cell_type": "code",
   "execution_count": 22,
   "metadata": {},
   "outputs": [],
   "source": [
    "train_fnames = glob.glob('hash_training/*.h5',recursive=True) #500 files\n",
    "nbevent = 0\n",
    "file_offset = []\n",
    "file_view = []\n",
    "\n",
    "for file in train_fnames:\n",
    "    hfile = tables.open_file(file, \"r\")\n",
    "    nrows = hfile.root.Shower.gerbe.nrows\n",
    "    file_offset.append((file,nbevent, nbevent+nrows))\n",
    "    nbevent = nbevent + nrows\n",
    "    hfile.close()\n",
    "\n",
    "tab_event_svd =  np.zeros((nbevent,55))\n",
    "for tab in file_offset:\n",
    "    file_view.append((tab[0], tab_event_svd[tab[1]:tab[2]]))\n",
    "with Pool(96) as p:\n",
    "        p.map(call_svd, file_view)"
   ]
  },
  {
   "cell_type": "code",
   "execution_count": null,
   "metadata": {},
   "outputs": [],
   "source": []
  }
 ],
 "metadata": {
  "interpreter": {
   "hash": "f9714c79cc20781910ed960df3f6fbe0fd0a0039e985b4bcf55af094e2ab2306"
  },
  "kernelspec": {
   "display_name": "Python 3.9.11 ('CTA')",
   "language": "python",
   "name": "python3"
  },
  "language_info": {
   "codemirror_mode": {
    "name": "ipython",
    "version": 3
   },
   "file_extension": ".py",
   "mimetype": "text/x-python",
   "name": "python",
   "nbconvert_exporter": "python",
   "pygments_lexer": "ipython3",
   "version": "3.9.11"
  },
  "orig_nbformat": 4
 },
 "nbformat": 4,
 "nbformat_minor": 2
}
